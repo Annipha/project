{
 "cells": [
  {
   "cell_type": "code",
   "execution_count": 1,
   "metadata": {
    "collapsed": true
   },
   "outputs": [],
   "source": [
    "data = [(3,4,'yes'), (4,5,'yes'), (5,8,'no'), (3,5,'yes'), (2,2,'no'),(3,5,'yes')]"
   ]
  },
  {
   "cell_type": "code",
   "execution_count": 2,
   "metadata": {
    "collapsed": true
   },
   "outputs": [],
   "source": [
    "new_data = [(4,4),(5,5),(6,6)]"
   ]
  },
  {
   "cell_type": "code",
   "execution_count": 84,
   "metadata": {
    "collapsed": true
   },
   "outputs": [],
   "source": [
    "def getkey(item):\n",
    "    return item[0]"
   ]
  },
  {
   "cell_type": "code",
   "execution_count": 123,
   "metadata": {
    "collapsed": false
   },
   "outputs": [
    {
     "name": "stdout",
     "output_type": "stream",
     "text": [
      "(4, 4)Yes\n",
      "(5, 5)Yes\n",
      "(6, 6)No\n"
     ]
    }
   ],
   "source": [
    "#calculate distance from new data to each known data\n",
    "\n",
    "\n",
    "for new in new_data:\n",
    "    vote_distance = []\n",
    "    for known in data:\n",
    "        diff = (int(new[0]-known[0])+int(new[1]-known[1]))**2\n",
    "        distance = (diff)**0.5\n",
    "        #now add to distance array\n",
    "        element = [distance,known[2]]\n",
    "        vote_distance.append(element)\n",
    "        #vote_distance.append(known[2])\n",
    "    \n",
    "    vote_distance = sorted(vote_distance, key=getkey)\n",
    "    \n",
    "    vote_count = vote_distance[0:3]\n",
    "    \n",
    "    predict = {}\n",
    "    \n",
    "    for vote in vote_count:\n",
    "        if vote[1] in predict:\n",
    "            predict[vote[1]] += 1\n",
    "        else: \n",
    "            predict[vote[1]] = 1\n",
    "        \n",
    "    if predict['yes'] >= 3:\n",
    "        print str(new) + 'Yes'\n",
    "    else:\n",
    "        print str(new) + 'No'\n",
    "        \n",
    "        \n",
    "        #if predict['yes'] > predict['no']:\n",
    "        #    return Yes\n",
    "        #else: \n",
    "         #   return False\n",
    "            \n",
    "    \n",
    "    \n",
    "    \n",
    "    \n",
    "        \n",
    "\n",
    "        "
   ]
  },
  {
   "cell_type": "code",
   "execution_count": null,
   "metadata": {
    "collapsed": true
   },
   "outputs": [],
   "source": []
  },
  {
   "cell_type": "code",
   "execution_count": 37,
   "metadata": {
    "collapsed": false
   },
   "outputs": [
    {
     "name": "stdout",
     "output_type": "stream",
     "text": [
      "[(4, 4), 1.0, 'yes', (4, 4), 1.0, 'yes', (4, 4), 5.0, 'no', (4, 4), 0.0, 'yes', (4, 4), 4.0, 'no', (4, 4), 0.0, 'yes', (5, 5), 3.0, 'yes', (5, 5), 1.0, 'yes', (5, 5), 3.0, 'no', (5, 5), 2.0, 'yes', (5, 5), 6.0, 'no', (5, 5), 2.0, 'yes', (6, 6), 5.0, 'yes', (6, 6), 3.0, 'yes', (6, 6), 1.0, 'no', (6, 6), 4.0, 'yes', (6, 6), 8.0, 'no', (6, 6), 4.0, 'yes']\n"
     ]
    }
   ],
   "source": [
    "#create a list with sorted distance and yes/no\n",
    "def getkey(item):\n",
    "    return item[1]\n",
    "\n",
    "sorted_distance = []\n",
    "\n",
    "\n",
    "sorted(distance_list, key=getkey)\n",
    "#for new in distance_list:\n",
    "#    print new\n",
    "    #for new[0] in distance_list:\n",
    "    #    sorted(distance_list, key=getkey)\n",
    "\n",
    "print distance_list\n",
    "        \n"
   ]
  },
  {
   "cell_type": "code",
   "execution_count": null,
   "metadata": {
    "collapsed": true
   },
   "outputs": [],
   "source": [
    "#pick top three nearest points, count yes/no\n",
    "\n"
   ]
  }
 ],
 "metadata": {
  "kernelspec": {
   "display_name": "Python [default]",
   "language": "python",
   "name": "python2"
  },
  "language_info": {
   "codemirror_mode": {
    "name": "ipython",
    "version": 2
   },
   "file_extension": ".py",
   "mimetype": "text/x-python",
   "name": "python",
   "nbconvert_exporter": "python",
   "pygments_lexer": "ipython2",
   "version": "2.7.12"
  }
 },
 "nbformat": 4,
 "nbformat_minor": 1
}
