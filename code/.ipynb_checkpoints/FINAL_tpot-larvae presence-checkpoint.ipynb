{
 "cells": [
  {
   "cell_type": "code",
   "execution_count": 74,
   "metadata": {
    "collapsed": false,
    "scrolled": true
   },
   "outputs": [],
   "source": [
    "from tpot import TPOTClassifier\n",
    "from sklearn.model_selection import train_test_split\n",
    "import pandas as pd \n",
    "import numpy as np"
   ]
  },
  {
   "cell_type": "code",
   "execution_count": 75,
   "metadata": {
    "collapsed": false
   },
   "outputs": [
    {
     "data": {
      "text/html": [
       "<div>\n",
       "<table border=\"1\" class=\"dataframe\">\n",
       "  <thead>\n",
       "    <tr style=\"text-align: right;\">\n",
       "      <th></th>\n",
       "      <th>Hamlet</th>\n",
       "      <th>Household_ID</th>\n",
       "      <th>Container_ID</th>\n",
       "      <th>Container_position</th>\n",
       "      <th>Water_level</th>\n",
       "      <th>Lid</th>\n",
       "      <th>Fish</th>\n",
       "      <th>Meso</th>\n",
       "      <th>Micronecta</th>\n",
       "      <th>Source</th>\n",
       "      <th>Treatment</th>\n",
       "      <th>Larvae</th>\n",
       "      <th>Full count Larvae</th>\n",
       "      <th>Full count Pupae</th>\n",
       "    </tr>\n",
       "  </thead>\n",
       "  <tbody>\n",
       "    <tr>\n",
       "      <th>0</th>\n",
       "      <td>0</td>\n",
       "      <td>1</td>\n",
       "      <td>1</td>\n",
       "      <td>0</td>\n",
       "      <td>25</td>\n",
       "      <td>1</td>\n",
       "      <td>0</td>\n",
       "      <td>0</td>\n",
       "      <td>0</td>\n",
       "      <td>0</td>\n",
       "      <td>0</td>\n",
       "      <td>1</td>\n",
       "      <td>206.7</td>\n",
       "      <td>51.6</td>\n",
       "    </tr>\n",
       "    <tr>\n",
       "      <th>1</th>\n",
       "      <td>0</td>\n",
       "      <td>2</td>\n",
       "      <td>2</td>\n",
       "      <td>1</td>\n",
       "      <td>25</td>\n",
       "      <td>1</td>\n",
       "      <td>0</td>\n",
       "      <td>0</td>\n",
       "      <td>0</td>\n",
       "      <td>1</td>\n",
       "      <td>0</td>\n",
       "      <td>0</td>\n",
       "      <td>0.0</td>\n",
       "      <td>3.0</td>\n",
       "    </tr>\n",
       "    <tr>\n",
       "      <th>2</th>\n",
       "      <td>0</td>\n",
       "      <td>2</td>\n",
       "      <td>5</td>\n",
       "      <td>0</td>\n",
       "      <td>25</td>\n",
       "      <td>0</td>\n",
       "      <td>0</td>\n",
       "      <td>0</td>\n",
       "      <td>0</td>\n",
       "      <td>1</td>\n",
       "      <td>0</td>\n",
       "      <td>0</td>\n",
       "      <td>0.0</td>\n",
       "      <td>0.0</td>\n",
       "    </tr>\n",
       "    <tr>\n",
       "      <th>3</th>\n",
       "      <td>0</td>\n",
       "      <td>2</td>\n",
       "      <td>6</td>\n",
       "      <td>0</td>\n",
       "      <td>25</td>\n",
       "      <td>1</td>\n",
       "      <td>0</td>\n",
       "      <td>0</td>\n",
       "      <td>0</td>\n",
       "      <td>0</td>\n",
       "      <td>1</td>\n",
       "      <td>0</td>\n",
       "      <td>0.0</td>\n",
       "      <td>0.0</td>\n",
       "    </tr>\n",
       "    <tr>\n",
       "      <th>4</th>\n",
       "      <td>0</td>\n",
       "      <td>3</td>\n",
       "      <td>5</td>\n",
       "      <td>1</td>\n",
       "      <td>30</td>\n",
       "      <td>1</td>\n",
       "      <td>0</td>\n",
       "      <td>0</td>\n",
       "      <td>0</td>\n",
       "      <td>0</td>\n",
       "      <td>1</td>\n",
       "      <td>0</td>\n",
       "      <td>0.0</td>\n",
       "      <td>0.0</td>\n",
       "    </tr>\n",
       "  </tbody>\n",
       "</table>\n",
       "</div>"
      ],
      "text/plain": [
       "   Hamlet  Household_ID  Container_ID  Container_position  Water_level  Lid  \\\n",
       "0       0             1             1                   0           25    1   \n",
       "1       0             2             2                   1           25    1   \n",
       "2       0             2             5                   0           25    0   \n",
       "3       0             2             6                   0           25    1   \n",
       "4       0             3             5                   1           30    1   \n",
       "\n",
       "   Fish  Meso  Micronecta  Source  Treatment  Larvae  Full count Larvae  \\\n",
       "0     0     0           0       0          0       1              206.7   \n",
       "1     0     0           0       1          0       0                0.0   \n",
       "2     0     0           0       1          0       0                0.0   \n",
       "3     0     0           0       0          1       0                0.0   \n",
       "4     0     0           0       0          1       0                0.0   \n",
       "\n",
       "   Full count Pupae  \n",
       "0              51.6  \n",
       "1               3.0  \n",
       "2               0.0  \n",
       "3               0.0  \n",
       "4               0.0  "
      ]
     },
     "execution_count": 75,
     "metadata": {},
     "output_type": "execute_result"
    }
   ],
   "source": [
    "f = pd.read_csv('final raw data.csv', na_filter=False)\n",
    "f.head(5)"
   ]
  },
  {
   "cell_type": "code",
   "execution_count": 78,
   "metadata": {
    "collapsed": false
   },
   "outputs": [],
   "source": [
    "data = f.drop(['Full count Pupae','Household_ID','Full count Larvae'], axis=1)"
   ]
  },
  {
   "cell_type": "code",
   "execution_count": 79,
   "metadata": {
    "collapsed": false
   },
   "outputs": [
    {
     "data": {
      "text/html": [
       "<div>\n",
       "<table border=\"1\" class=\"dataframe\">\n",
       "  <thead>\n",
       "    <tr style=\"text-align: right;\">\n",
       "      <th></th>\n",
       "      <th>Hamlet</th>\n",
       "      <th>Container_ID</th>\n",
       "      <th>Container_position</th>\n",
       "      <th>Water_level</th>\n",
       "      <th>Lid</th>\n",
       "      <th>Fish</th>\n",
       "      <th>Meso</th>\n",
       "      <th>Micronecta</th>\n",
       "      <th>Source</th>\n",
       "      <th>Treatment</th>\n",
       "      <th>class</th>\n",
       "    </tr>\n",
       "  </thead>\n",
       "  <tbody>\n",
       "    <tr>\n",
       "      <th>0</th>\n",
       "      <td>0</td>\n",
       "      <td>1</td>\n",
       "      <td>0</td>\n",
       "      <td>25</td>\n",
       "      <td>1</td>\n",
       "      <td>0</td>\n",
       "      <td>0</td>\n",
       "      <td>0</td>\n",
       "      <td>0</td>\n",
       "      <td>0</td>\n",
       "      <td>1</td>\n",
       "    </tr>\n",
       "    <tr>\n",
       "      <th>1</th>\n",
       "      <td>0</td>\n",
       "      <td>2</td>\n",
       "      <td>1</td>\n",
       "      <td>25</td>\n",
       "      <td>1</td>\n",
       "      <td>0</td>\n",
       "      <td>0</td>\n",
       "      <td>0</td>\n",
       "      <td>1</td>\n",
       "      <td>0</td>\n",
       "      <td>0</td>\n",
       "    </tr>\n",
       "    <tr>\n",
       "      <th>2</th>\n",
       "      <td>0</td>\n",
       "      <td>5</td>\n",
       "      <td>0</td>\n",
       "      <td>25</td>\n",
       "      <td>0</td>\n",
       "      <td>0</td>\n",
       "      <td>0</td>\n",
       "      <td>0</td>\n",
       "      <td>1</td>\n",
       "      <td>0</td>\n",
       "      <td>0</td>\n",
       "    </tr>\n",
       "    <tr>\n",
       "      <th>3</th>\n",
       "      <td>0</td>\n",
       "      <td>6</td>\n",
       "      <td>0</td>\n",
       "      <td>25</td>\n",
       "      <td>1</td>\n",
       "      <td>0</td>\n",
       "      <td>0</td>\n",
       "      <td>0</td>\n",
       "      <td>0</td>\n",
       "      <td>1</td>\n",
       "      <td>0</td>\n",
       "    </tr>\n",
       "    <tr>\n",
       "      <th>4</th>\n",
       "      <td>0</td>\n",
       "      <td>5</td>\n",
       "      <td>1</td>\n",
       "      <td>30</td>\n",
       "      <td>1</td>\n",
       "      <td>0</td>\n",
       "      <td>0</td>\n",
       "      <td>0</td>\n",
       "      <td>0</td>\n",
       "      <td>1</td>\n",
       "      <td>0</td>\n",
       "    </tr>\n",
       "  </tbody>\n",
       "</table>\n",
       "</div>"
      ],
      "text/plain": [
       "   Hamlet  Container_ID  Container_position  Water_level  Lid  Fish  Meso  \\\n",
       "0       0             1                   0           25    1     0     0   \n",
       "1       0             2                   1           25    1     0     0   \n",
       "2       0             5                   0           25    0     0     0   \n",
       "3       0             6                   0           25    1     0     0   \n",
       "4       0             5                   1           30    1     0     0   \n",
       "\n",
       "   Micronecta  Source  Treatment  class  \n",
       "0           0       0          0      1  \n",
       "1           0       1          0      0  \n",
       "2           0       1          0      0  \n",
       "3           0       0          1      0  \n",
       "4           0       0          1      0  "
      ]
     },
     "execution_count": 79,
     "metadata": {},
     "output_type": "execute_result"
    }
   ],
   "source": [
    "data.rename(columns={'Larvae': 'class'}, inplace=True)\n",
    "data.head(5)"
   ]
  },
  {
   "cell_type": "code",
   "execution_count": 80,
   "metadata": {
    "collapsed": false
   },
   "outputs": [
    {
     "data": {
      "text/html": [
       "<div>\n",
       "<table border=\"1\" class=\"dataframe\">\n",
       "  <thead>\n",
       "    <tr style=\"text-align: right;\">\n",
       "      <th></th>\n",
       "      <th>Hamlet</th>\n",
       "      <th>Container_ID</th>\n",
       "      <th>Container_position</th>\n",
       "      <th>Water_level</th>\n",
       "      <th>Lid</th>\n",
       "      <th>Fish</th>\n",
       "      <th>Meso</th>\n",
       "      <th>Micronecta</th>\n",
       "      <th>Source</th>\n",
       "      <th>Treatment</th>\n",
       "      <th>class</th>\n",
       "    </tr>\n",
       "  </thead>\n",
       "  <tbody>\n",
       "    <tr>\n",
       "      <th>Hamlet</th>\n",
       "      <td>1.000000</td>\n",
       "      <td>0.094205</td>\n",
       "      <td>-0.062234</td>\n",
       "      <td>-0.118714</td>\n",
       "      <td>0.087739</td>\n",
       "      <td>0.001761</td>\n",
       "      <td>0.046505</td>\n",
       "      <td>-0.067171</td>\n",
       "      <td>-0.207156</td>\n",
       "      <td>0.287044</td>\n",
       "      <td>-0.040913</td>\n",
       "    </tr>\n",
       "    <tr>\n",
       "      <th>Container_ID</th>\n",
       "      <td>0.094205</td>\n",
       "      <td>1.000000</td>\n",
       "      <td>-0.155956</td>\n",
       "      <td>0.160253</td>\n",
       "      <td>0.341791</td>\n",
       "      <td>0.061851</td>\n",
       "      <td>-0.142878</td>\n",
       "      <td>-0.006416</td>\n",
       "      <td>-0.007772</td>\n",
       "      <td>-0.085564</td>\n",
       "      <td>0.136574</td>\n",
       "    </tr>\n",
       "    <tr>\n",
       "      <th>Container_position</th>\n",
       "      <td>-0.062234</td>\n",
       "      <td>-0.155956</td>\n",
       "      <td>1.000000</td>\n",
       "      <td>0.164580</td>\n",
       "      <td>0.170977</td>\n",
       "      <td>0.083333</td>\n",
       "      <td>0.085881</td>\n",
       "      <td>-0.074729</td>\n",
       "      <td>-0.022805</td>\n",
       "      <td>-0.153849</td>\n",
       "      <td>-0.033566</td>\n",
       "    </tr>\n",
       "    <tr>\n",
       "      <th>Water_level</th>\n",
       "      <td>-0.118714</td>\n",
       "      <td>0.160253</td>\n",
       "      <td>0.164580</td>\n",
       "      <td>1.000000</td>\n",
       "      <td>0.119086</td>\n",
       "      <td>0.032449</td>\n",
       "      <td>-0.094824</td>\n",
       "      <td>-0.055055</td>\n",
       "      <td>-0.001564</td>\n",
       "      <td>-0.298278</td>\n",
       "      <td>-0.021607</td>\n",
       "    </tr>\n",
       "    <tr>\n",
       "      <th>Lid</th>\n",
       "      <td>0.087739</td>\n",
       "      <td>0.341791</td>\n",
       "      <td>0.170977</td>\n",
       "      <td>0.119086</td>\n",
       "      <td>1.000000</td>\n",
       "      <td>0.034691</td>\n",
       "      <td>0.049797</td>\n",
       "      <td>0.086216</td>\n",
       "      <td>-0.277447</td>\n",
       "      <td>-0.068422</td>\n",
       "      <td>0.194626</td>\n",
       "    </tr>\n",
       "    <tr>\n",
       "      <th>Fish</th>\n",
       "      <td>0.001761</td>\n",
       "      <td>0.061851</td>\n",
       "      <td>0.083333</td>\n",
       "      <td>0.032449</td>\n",
       "      <td>0.034691</td>\n",
       "      <td>1.000000</td>\n",
       "      <td>-0.105307</td>\n",
       "      <td>-0.032106</td>\n",
       "      <td>-0.048533</td>\n",
       "      <td>-0.047567</td>\n",
       "      <td>-0.043033</td>\n",
       "    </tr>\n",
       "    <tr>\n",
       "      <th>Meso</th>\n",
       "      <td>0.046505</td>\n",
       "      <td>-0.142878</td>\n",
       "      <td>0.085881</td>\n",
       "      <td>-0.094824</td>\n",
       "      <td>0.049797</td>\n",
       "      <td>-0.105307</td>\n",
       "      <td>1.000000</td>\n",
       "      <td>0.086366</td>\n",
       "      <td>-0.204965</td>\n",
       "      <td>0.054493</td>\n",
       "      <td>-0.114040</td>\n",
       "    </tr>\n",
       "    <tr>\n",
       "      <th>Micronecta</th>\n",
       "      <td>-0.067171</td>\n",
       "      <td>-0.006416</td>\n",
       "      <td>-0.074729</td>\n",
       "      <td>-0.055055</td>\n",
       "      <td>0.086216</td>\n",
       "      <td>-0.032106</td>\n",
       "      <td>0.086366</td>\n",
       "      <td>1.000000</td>\n",
       "      <td>-0.045689</td>\n",
       "      <td>0.101633</td>\n",
       "      <td>-0.018009</td>\n",
       "    </tr>\n",
       "    <tr>\n",
       "      <th>Source</th>\n",
       "      <td>-0.207156</td>\n",
       "      <td>-0.007772</td>\n",
       "      <td>-0.022805</td>\n",
       "      <td>-0.001564</td>\n",
       "      <td>-0.277447</td>\n",
       "      <td>-0.048533</td>\n",
       "      <td>-0.204965</td>\n",
       "      <td>-0.045689</td>\n",
       "      <td>1.000000</td>\n",
       "      <td>-0.321717</td>\n",
       "      <td>-0.008153</td>\n",
       "    </tr>\n",
       "    <tr>\n",
       "      <th>Treatment</th>\n",
       "      <td>0.287044</td>\n",
       "      <td>-0.085564</td>\n",
       "      <td>-0.153849</td>\n",
       "      <td>-0.298278</td>\n",
       "      <td>-0.068422</td>\n",
       "      <td>-0.047567</td>\n",
       "      <td>0.054493</td>\n",
       "      <td>0.101633</td>\n",
       "      <td>-0.321717</td>\n",
       "      <td>1.000000</td>\n",
       "      <td>-0.034542</td>\n",
       "    </tr>\n",
       "    <tr>\n",
       "      <th>class</th>\n",
       "      <td>-0.040913</td>\n",
       "      <td>0.136574</td>\n",
       "      <td>-0.033566</td>\n",
       "      <td>-0.021607</td>\n",
       "      <td>0.194626</td>\n",
       "      <td>-0.043033</td>\n",
       "      <td>-0.114040</td>\n",
       "      <td>-0.018009</td>\n",
       "      <td>-0.008153</td>\n",
       "      <td>-0.034542</td>\n",
       "      <td>1.000000</td>\n",
       "    </tr>\n",
       "  </tbody>\n",
       "</table>\n",
       "</div>"
      ],
      "text/plain": [
       "                      Hamlet  Container_ID  Container_position  Water_level  \\\n",
       "Hamlet              1.000000      0.094205           -0.062234    -0.118714   \n",
       "Container_ID        0.094205      1.000000           -0.155956     0.160253   \n",
       "Container_position -0.062234     -0.155956            1.000000     0.164580   \n",
       "Water_level        -0.118714      0.160253            0.164580     1.000000   \n",
       "Lid                 0.087739      0.341791            0.170977     0.119086   \n",
       "Fish                0.001761      0.061851            0.083333     0.032449   \n",
       "Meso                0.046505     -0.142878            0.085881    -0.094824   \n",
       "Micronecta         -0.067171     -0.006416           -0.074729    -0.055055   \n",
       "Source             -0.207156     -0.007772           -0.022805    -0.001564   \n",
       "Treatment           0.287044     -0.085564           -0.153849    -0.298278   \n",
       "class              -0.040913      0.136574           -0.033566    -0.021607   \n",
       "\n",
       "                         Lid      Fish      Meso  Micronecta    Source  \\\n",
       "Hamlet              0.087739  0.001761  0.046505   -0.067171 -0.207156   \n",
       "Container_ID        0.341791  0.061851 -0.142878   -0.006416 -0.007772   \n",
       "Container_position  0.170977  0.083333  0.085881   -0.074729 -0.022805   \n",
       "Water_level         0.119086  0.032449 -0.094824   -0.055055 -0.001564   \n",
       "Lid                 1.000000  0.034691  0.049797    0.086216 -0.277447   \n",
       "Fish                0.034691  1.000000 -0.105307   -0.032106 -0.048533   \n",
       "Meso                0.049797 -0.105307  1.000000    0.086366 -0.204965   \n",
       "Micronecta          0.086216 -0.032106  0.086366    1.000000 -0.045689   \n",
       "Source             -0.277447 -0.048533 -0.204965   -0.045689  1.000000   \n",
       "Treatment          -0.068422 -0.047567  0.054493    0.101633 -0.321717   \n",
       "class               0.194626 -0.043033 -0.114040   -0.018009 -0.008153   \n",
       "\n",
       "                    Treatment     class  \n",
       "Hamlet               0.287044 -0.040913  \n",
       "Container_ID        -0.085564  0.136574  \n",
       "Container_position  -0.153849 -0.033566  \n",
       "Water_level         -0.298278 -0.021607  \n",
       "Lid                 -0.068422  0.194626  \n",
       "Fish                -0.047567 -0.043033  \n",
       "Meso                 0.054493 -0.114040  \n",
       "Micronecta           0.101633 -0.018009  \n",
       "Source              -0.321717 -0.008153  \n",
       "Treatment            1.000000 -0.034542  \n",
       "class               -0.034542  1.000000  "
      ]
     },
     "execution_count": 80,
     "metadata": {},
     "output_type": "execute_result"
    }
   ],
   "source": [
    "data.corr()"
   ]
  },
  {
   "cell_type": "code",
   "execution_count": 81,
   "metadata": {
    "collapsed": false
   },
   "outputs": [
    {
     "name": "stdout",
     "output_type": "stream",
     "text": [
      "(50, 11)\n",
      "(500, 11)\n"
     ]
    }
   ],
   "source": [
    "pos_data = data[data['class'] == 1]\n",
    "neg_data = data[data['class'] == 0]\n",
    "\n",
    "print (pos_data.shape)\n",
    "print (neg_data.shape)"
   ]
  },
  {
   "cell_type": "code",
   "execution_count": 82,
   "metadata": {
    "collapsed": false
   },
   "outputs": [],
   "source": [
    "pos_len = len(pos_data.index)\n",
    "random_pos_data = pos_data.take(np.random.permutation(len(pos_data))[:pos_len])\n",
    "\n",
    "samples = int(0.75 * pos_len)\n",
    "train_pos_data = random_pos_data[:samples]\n",
    "test_pos_data = random_pos_data[samples:]"
   ]
  },
  {
   "cell_type": "code",
   "execution_count": 83,
   "metadata": {
    "collapsed": false
   },
   "outputs": [
    {
     "name": "stdout",
     "output_type": "stream",
     "text": [
      "(370, 11)\n"
     ]
    }
   ],
   "source": [
    "final_pos_data = pd.concat([train_pos_data]*5)\n",
    "times = len(final_pos_data)\n",
    "final_neg_data = neg_data.take(np.random.permutation(len(neg_data))[:times])\n",
    "frames = [final_pos_data, final_neg_data]\n",
    "final_data = pd.concat(frames)\n",
    "print (final_data.shape)"
   ]
  },
  {
   "cell_type": "code",
   "execution_count": 84,
   "metadata": {
    "collapsed": false
   },
   "outputs": [],
   "source": [
    "#final_data.dtypes"
   ]
  },
  {
   "cell_type": "code",
   "execution_count": 85,
   "metadata": {
    "collapsed": false
   },
   "outputs": [],
   "source": [
    "#final_data = final_data.fillna(-999)\n",
    "#pd.isnull(final_data).any()"
   ]
  },
  {
   "cell_type": "code",
   "execution_count": 86,
   "metadata": {
    "collapsed": false
   },
   "outputs": [],
   "source": [
    "data_new = final_data.drop(['class'], axis=1)"
   ]
  },
  {
   "cell_type": "code",
   "execution_count": 87,
   "metadata": {
    "collapsed": false
   },
   "outputs": [],
   "source": [
    "data_class = final_data['class'].values"
   ]
  },
  {
   "cell_type": "code",
   "execution_count": 88,
   "metadata": {
    "collapsed": false
   },
   "outputs": [
    {
     "data": {
      "text/plain": [
       "(277, 93)"
      ]
     },
     "execution_count": 88,
     "metadata": {},
     "output_type": "execute_result"
    }
   ],
   "source": [
    "training_indices, validation_indices = training_indices, testing_indices = train_test_split(data_new.index, stratify = data_class, train_size=0.75, test_size=0.25)\n",
    "training_indices.size, validation_indices.size"
   ]
  },
  {
   "cell_type": "code",
   "execution_count": 89,
   "metadata": {
    "collapsed": false
   },
   "outputs": [],
   "source": [
    "X_train, X_test, y_train, y_test = train_test_split(data_new, data_class,train_size=0.75, test_size=0.25)"
   ]
  },
  {
   "cell_type": "code",
   "execution_count": 90,
   "metadata": {
    "collapsed": false
   },
   "outputs": [],
   "source": [
    "tpot = TPOTClassifier(generations=5, population_size=20, num_cv_folds=5, random_state=42, verbosity=2)"
   ]
  },
  {
   "cell_type": "code",
   "execution_count": 91,
   "metadata": {
    "collapsed": false
   },
   "outputs": [
    {
     "name": "stderr",
     "output_type": "stream",
     "text": [
      "Optimization Progress:  17%|█▋        | 20/120 [00:26<01:42,  1.02s/pipeline]"
     ]
    },
    {
     "name": "stdout",
     "output_type": "stream",
     "text": [
      "Generation 1 - Current best internal CV score: 0.9459459459459459\n"
     ]
    },
    {
     "name": "stderr",
     "output_type": "stream",
     "text": [
      "Optimization Progress:  32%|███▎      | 39/120 [01:39<06:07,  4.54s/pipeline]"
     ]
    },
    {
     "name": "stdout",
     "output_type": "stream",
     "text": [
      "Generation 2 - Current best internal CV score: 0.9459459459459459\n"
     ]
    },
    {
     "name": "stderr",
     "output_type": "stream",
     "text": [
      "Optimization Progress:  48%|████▊     | 58/120 [03:46<06:26,  6.23s/pipeline]"
     ]
    },
    {
     "name": "stdout",
     "output_type": "stream",
     "text": [
      "Generation 3 - Current best internal CV score: 0.9837837837837838\n"
     ]
    },
    {
     "name": "stderr",
     "output_type": "stream",
     "text": [
      "Optimization Progress:  64%|██████▍   | 77/120 [06:28<08:55, 12.46s/pipeline]"
     ]
    },
    {
     "name": "stdout",
     "output_type": "stream",
     "text": [
      "Generation 4 - Current best internal CV score: 0.9837837837837838\n"
     ]
    },
    {
     "name": "stderr",
     "output_type": "stream",
     "text": [
      "Optimization Progress:  83%|████████▎ | 100/120 [08:54<02:24,  7.25s/pipeline]"
     ]
    },
    {
     "name": "stdout",
     "output_type": "stream",
     "text": [
      "Generation 5 - Current best internal CV score: 0.9837837837837838\n"
     ]
    },
    {
     "name": "stderr",
     "output_type": "stream",
     "text": []
    },
    {
     "name": "stdout",
     "output_type": "stream",
     "text": [
      "\n",
      "Best pipeline: ExtraTreesClassifier(RBFSampler(input_matrix, 30.0), 70, 1.0000000000000001e-05)\n"
     ]
    }
   ],
   "source": [
    "tpot.fit(data_new, data_class)"
   ]
  },
  {
   "cell_type": "code",
   "execution_count": 92,
   "metadata": {
    "collapsed": false
   },
   "outputs": [],
   "source": [
    "#print(tpot.score(X_test, y_test))"
   ]
  },
  {
   "cell_type": "code",
   "execution_count": 93,
   "metadata": {
    "collapsed": true
   },
   "outputs": [],
   "source": [
    "#tpot.export('tpot_exported_pipeline.py')"
   ]
  },
  {
   "cell_type": "code",
   "execution_count": 94,
   "metadata": {
    "collapsed": false
   },
   "outputs": [
    {
     "name": "stdout",
     "output_type": "stream",
     "text": [
      "[0 0 0 0 0 0 0 0 1 0 0 1 0]\n"
     ]
    }
   ],
   "source": [
    "test_pos_data_X = test_pos_data.drop(['class'], axis=1)\n",
    "test_pos_data_y = test_pos_data['class']\n",
    "test_pos_data_X.shape\n",
    "y_pred = tpot.predict(test_pos_data_X)\n",
    "print (y_pred)"
   ]
  },
  {
   "cell_type": "code",
   "execution_count": 95,
   "metadata": {
    "collapsed": false
   },
   "outputs": [
    {
     "name": "stdout",
     "output_type": "stream",
     "text": [
      "[[ 0  0]\n",
      " [11  2]]\n"
     ]
    }
   ],
   "source": [
    "from sklearn import metrics\n",
    "preds = tpot.predict(test_pos_data_X)\n",
    "print (metrics.confusion_matrix(test_pos_data_y, preds))"
   ]
  },
  {
   "cell_type": "code",
   "execution_count": null,
   "metadata": {
    "collapsed": true
   },
   "outputs": [],
   "source": []
  },
  {
   "cell_type": "code",
   "execution_count": 96,
   "metadata": {
    "collapsed": true
   },
   "outputs": [],
   "source": [
    "##LOGISTIC REGRESSION"
   ]
  },
  {
   "cell_type": "code",
   "execution_count": 97,
   "metadata": {
    "collapsed": false
   },
   "outputs": [
    {
     "name": "stdout",
     "output_type": "stream",
     "text": [
      "4\n",
      "[False False False False  True  True  True False  True False]\n",
      "[3 5 6 7 1 1 1 2 1 4]\n",
      "     Hamlet  Container_ID  Container_position  Water_level  Lid  Fish  Meso  \\\n",
      "520      10             6                   0           60    1     0     0   \n",
      "265       5             5                   1           80    1     0     1   \n",
      "515      10             5                   0           90    1     0     1   \n",
      "149       2             9                   0           50    1     0     0   \n",
      "39        0             5                   1           80    1     0     0   \n",
      "\n",
      "     Micronecta  Source  Treatment  \n",
      "520           0       0          1  \n",
      "265           0       0          1  \n",
      "515           1       0          1  \n",
      "149           0       0          1  \n",
      "39            0       0          0  \n"
     ]
    }
   ],
   "source": [
    "# feature selection using recursive feature elimination\n",
    "from sklearn.feature_selection import RFE\n",
    "from sklearn.linear_model import LogisticRegression\n",
    "model = LogisticRegression()\n",
    "rfe = RFE(model, 4)\n",
    "fit = rfe.fit(data_new, data_class)\n",
    "print (fit.n_features_)\n",
    "print (fit.support_)\n",
    "print (fit.ranking_)\n",
    "print (data_new.head(5))"
   ]
  },
  {
   "cell_type": "code",
   "execution_count": 98,
   "metadata": {
    "collapsed": false
   },
   "outputs": [
    {
     "name": "stdout",
     "output_type": "stream",
     "text": [
      "[ 0.159  0.151  0.057  0.254  0.133  0.007  0.067  0.023  0.059  0.091]\n",
      "     Hamlet  Container_ID  Container_position  Water_level  Lid  Fish  Meso  \\\n",
      "520      10             6                   0           60    1     0     0   \n",
      "265       5             5                   1           80    1     0     1   \n",
      "515      10             5                   0           90    1     0     1   \n",
      "149       2             9                   0           50    1     0     0   \n",
      "39        0             5                   1           80    1     0     0   \n",
      "\n",
      "     Micronecta  Source  Treatment  \n",
      "520           0       0          1  \n",
      "265           0       0          1  \n",
      "515           1       0          1  \n",
      "149           0       0          1  \n",
      "39            0       0          0  \n"
     ]
    },
    {
     "data": {
      "text/html": [
       "<div>\n",
       "<table border=\"1\" class=\"dataframe\">\n",
       "  <thead>\n",
       "    <tr style=\"text-align: right;\">\n",
       "      <th></th>\n",
       "      <th>importance</th>\n",
       "    </tr>\n",
       "  </thead>\n",
       "  <tbody>\n",
       "    <tr>\n",
       "      <th>0</th>\n",
       "      <td>0.158568</td>\n",
       "    </tr>\n",
       "    <tr>\n",
       "      <th>1</th>\n",
       "      <td>0.150908</td>\n",
       "    </tr>\n",
       "    <tr>\n",
       "      <th>2</th>\n",
       "      <td>0.057427</td>\n",
       "    </tr>\n",
       "    <tr>\n",
       "      <th>3</th>\n",
       "      <td>0.253651</td>\n",
       "    </tr>\n",
       "    <tr>\n",
       "      <th>4</th>\n",
       "      <td>0.133028</td>\n",
       "    </tr>\n",
       "    <tr>\n",
       "      <th>5</th>\n",
       "      <td>0.007308</td>\n",
       "    </tr>\n",
       "    <tr>\n",
       "      <th>6</th>\n",
       "      <td>0.066808</td>\n",
       "    </tr>\n",
       "    <tr>\n",
       "      <th>7</th>\n",
       "      <td>0.022541</td>\n",
       "    </tr>\n",
       "    <tr>\n",
       "      <th>8</th>\n",
       "      <td>0.058718</td>\n",
       "    </tr>\n",
       "    <tr>\n",
       "      <th>9</th>\n",
       "      <td>0.091043</td>\n",
       "    </tr>\n",
       "  </tbody>\n",
       "</table>\n",
       "</div>"
      ],
      "text/plain": [
       "   importance\n",
       "0    0.158568\n",
       "1    0.150908\n",
       "2    0.057427\n",
       "3    0.253651\n",
       "4    0.133028\n",
       "5    0.007308\n",
       "6    0.066808\n",
       "7    0.022541\n",
       "8    0.058718\n",
       "9    0.091043"
      ]
     },
     "execution_count": 98,
     "metadata": {},
     "output_type": "execute_result"
    }
   ],
   "source": [
    "from sklearn.ensemble import ExtraTreesClassifier\n",
    "model = ExtraTreesClassifier()\n",
    "model.fit(data_new, data_class)\n",
    "\n",
    "print(model.feature_importances_)\n",
    "print (data_new.head(5))\n",
    "pd.DataFrame({'importance':model.feature_importances_})"
   ]
  },
  {
   "cell_type": "code",
   "execution_count": 99,
   "metadata": {
    "collapsed": false
   },
   "outputs": [
    {
     "name": "stdout",
     "output_type": "stream",
     "text": [
      "[  5.494e+00   3.627e+00   1.613e-02   4.715e+01   1.450e+01   2.000e+00\n",
      "   8.658e+00   4.762e-02   9.245e-01   2.934e-01]\n"
     ]
    }
   ],
   "source": [
    "import numpy\n",
    "from sklearn.feature_selection import SelectKBest\n",
    "from sklearn.feature_selection import chi2\n",
    "test = SelectKBest(score_func=chi2, k=4)\n",
    "fit = test.fit(data_new, data_class)\n",
    "numpy.set_printoptions(precision=3)\n",
    "print(fit.scores_)"
   ]
  },
  {
   "cell_type": "code",
   "execution_count": 100,
   "metadata": {
    "collapsed": true
   },
   "outputs": [],
   "source": [
    "from sklearn.linear_model import LogisticRegression\n",
    "logreg = LogisticRegression(C=1e9)"
   ]
  },
  {
   "cell_type": "code",
   "execution_count": 101,
   "metadata": {
    "collapsed": false
   },
   "outputs": [],
   "source": [
    "X_train, X_test, y_train, y_test = train_test_split(data_new,data_class,train_size=0.75, test_size=0.25)"
   ]
  },
  {
   "cell_type": "code",
   "execution_count": 102,
   "metadata": {
    "collapsed": false
   },
   "outputs": [
    {
     "data": {
      "text/plain": [
       "LogisticRegression(C=1000000000.0, class_weight=None, dual=False,\n",
       "          fit_intercept=True, intercept_scaling=1, max_iter=100,\n",
       "          multi_class='ovr', n_jobs=1, penalty='l2', random_state=None,\n",
       "          solver='liblinear', tol=0.0001, verbose=0, warm_start=False)"
      ]
     },
     "execution_count": 102,
     "metadata": {},
     "output_type": "execute_result"
    }
   ],
   "source": [
    "logreg.fit(data_new,data_class)"
   ]
  },
  {
   "cell_type": "code",
   "execution_count": 103,
   "metadata": {
    "collapsed": false
   },
   "outputs": [
    {
     "name": "stdout",
     "output_type": "stream",
     "text": [
      "(93,)\n",
      "(93,)\n"
     ]
    }
   ],
   "source": [
    "y_predict = logreg.predict(X_test)\n",
    "print (y_predict.shape)\n",
    "print (y_test.shape)"
   ]
  },
  {
   "cell_type": "code",
   "execution_count": 104,
   "metadata": {
    "collapsed": false
   },
   "outputs": [
    {
     "name": "stdout",
     "output_type": "stream",
     "text": [
      "0.585\n"
     ]
    }
   ],
   "source": [
    "from sklearn.cross_validation import cross_val_score\n",
    "print (cross_val_score(logreg, X_test, y_test, cv=10, scoring='precision').mean())"
   ]
  },
  {
   "cell_type": "code",
   "execution_count": 105,
   "metadata": {
    "collapsed": false
   },
   "outputs": [
    {
     "data": {
      "text/plain": [
       "array([1, 1, 1, 1, 0, 1, 1, 0, 1, 1, 1, 1, 0])"
      ]
     },
     "execution_count": 105,
     "metadata": {},
     "output_type": "execute_result"
    }
   ],
   "source": [
    "from sklearn.cross_validation import cross_val_score\n",
    "y_predict = logreg.predict(test_pos_data_X)\n",
    "y_predict"
   ]
  },
  {
   "cell_type": "code",
   "execution_count": 122,
   "metadata": {
    "collapsed": false
   },
   "outputs": [
    {
     "data": {
      "text/plain": [
       "array([0, 1, 0, 0, 0, 0, 0, 0, 1, 1, 1, 1, 1])"
      ]
     },
     "execution_count": 122,
     "metadata": {},
     "output_type": "execute_result"
    }
   ],
   "source": [
    "#KNN\n",
    "from sklearn.neighbors import KNeighborsClassifier\n",
    "knn = KNeighborsClassifier(n_neighbors=5)\n",
    "knn.fit(data_new, data_class)\n",
    "knn.predict(test_pos_data_X)"
   ]
  },
  {
   "cell_type": "code",
   "execution_count": 123,
   "metadata": {
    "collapsed": false
   },
   "outputs": [],
   "source": [
    "k_range = range(1, 20)\n",
    "k_scores = []\n",
    "for k in k_range:\n",
    "    knn = KNeighborsClassifier(n_neighbors=k)\n",
    "    scores = cross_val_score(knn, X_test, y_test, cv=10, scoring='precision')\n",
    "    average_score= scores.mean()\n",
    "    k_scores.append(average_score)"
   ]
  },
  {
   "cell_type": "code",
   "execution_count": 124,
   "metadata": {
    "collapsed": false
   },
   "outputs": [
    {
     "data": {
      "text/plain": [
       "<matplotlib.text.Text at 0x7fec6bdafcc0>"
      ]
     },
     "execution_count": 124,
     "metadata": {},
     "output_type": "execute_result"
    },
    {
     "data": {
      "image/png": "[encoded data removed]",
      "text/plain": [
       "<matplotlib.figure.Figure at 0x7fec6bf15128>"
      ]
     },
     "metadata": {},
     "output_type": "display_data"
    }
   ],
   "source": [
    "import matplotlib.pyplot as plt\n",
    "%matplotlib inline\n",
    "plt.plot(k_range, k_scores)\n",
    "\n",
    "plt.xlabel('Value of K for KNN')\n",
    "plt.ylabel('Cross-Validated Precision')"
   ]
  },
  {
   "cell_type": "code",
   "execution_count": 148,
   "metadata": {
    "collapsed": false
   },
   "outputs": [
    {
     "name": "stdout",
     "output_type": "stream",
     "text": [
      "MultinomialNB:\n",
      "[[0 0]\n",
      " [5 8]]\n"
     ]
    }
   ],
   "source": [
    "#Naive bayes\n",
    "from sklearn.naive_bayes import MultinomialNB\n",
    "\n",
    "print (\"MultinomialNB:\")\n",
    "MNB = MultinomialNB().fit(data_new, data_class)\n",
    "predictMNB = MNB.predict(test_pos_data_X)\n",
    "from sklearn import metrics\n",
    "print (metrics.confusion_matrix(test_pos_data_y, predictMNB))\n"
   ]
  },
  {
   "cell_type": "code",
   "execution_count": 149,
   "metadata": {
    "collapsed": false
   },
   "outputs": [
    {
     "name": "stdout",
     "output_type": "stream",
     "text": [
      "BernoulliNB:\n",
      "[[ 0  0]\n",
      " [ 2 11]]\n"
     ]
    }
   ],
   "source": [
    "from sklearn.naive_bayes import BernoulliNB\n",
    "print (\"BernoulliNB:\")\n",
    "BER = BernoulliNB().fit(data_new, data_class)\n",
    "predictBER = BER.predict(test_pos_data_X)\n",
    "from sklearn import metrics\n",
    "print (metrics.confusion_matrix(test_pos_data_y, predictBER))"
   ]
  },
  {
   "cell_type": "code",
   "execution_count": null,
   "metadata": {
    "collapsed": true
   },
   "outputs": [],
   "source": [
    "#SVM"
   ]
  },
  {
   "cell_type": "code",
   "execution_count": null,
   "metadata": {
    "collapsed": true
   },
   "outputs": [],
   "source": [
    "from sklearn.preprocessing import MinMaxScaler\n",
    "X = data_new\n",
    "y = data_class\n",
    "X_scaled = MinMaxScaler().fit_transform(X)\n",
    "\n",
    "from sklearn.decomposition import PCA\n",
    "X_pca = PCA(n_components=2).fit_transform(X_scaled)\n",
    "\n",
    "print (X_pca.shape)"
   ]
  },
  {
   "cell_type": "code",
   "execution_count": null,
   "metadata": {
    "collapsed": true
   },
   "outputs": [],
   "source": [
    "from sklearn.svm import SVC\n",
    "from sklearn import tree\n",
    "from sklearn.metrics import accuracy_score\n",
    "svc = SVC(C=1, kernel='rbf').fit(X_train,y_train)\n",
    "Y_predict = svc.predict(X_test)\n",
    "print(accuracy_score(y_test, Y_predict ))\n",
    "clf = tree.DecisionTreeClassifier().fit(X_train, y_train)\n",
    "y_predict = clf.predict(X_test)\n",
    "print(accuracy_score(y_test, y_predict))"
   ]
  }
 ],
 "metadata": {
  "anaconda-cloud": {},
  "kernelspec": {
   "display_name": "Python [conda env:py35]",
   "language": "python",
   "name": "conda-env-py35-py"
  },
  "language_info": {
   "codemirror_mode": {
    "name": "ipython",
    "version": 3
   },
   "file_extension": ".py",
   "mimetype": "text/x-python",
   "name": "python",
   "nbconvert_exporter": "python",
   "pygments_lexer": "ipython3",
   "version": "3.5.2"
  }
 },
 "nbformat": 4,
 "nbformat_minor": 1
}
