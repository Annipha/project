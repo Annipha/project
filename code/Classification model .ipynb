{
 "cells": [
  {
   "cell_type": "code",
   "execution_count": 1,
   "metadata": {
    "collapsed": true
   },
   "outputs": [],
   "source": [
    "features={}\n",
    "features['Hamlet'] = 1\n",
    "features['Container_ID'] = 2\n",
    "features['Water_level'] = 3\n",
    "features['Meso'] = 0\n",
    "features['Container_position'] = 1\n",
    "features['Treatment'] = 1\n",
    "\n"
   ]
  },
  {
   "cell_type": "code",
   "execution_count": 1,
   "metadata": {
    "collapsed": true
   },
   "outputs": [],
   "source": [
    "from sklearn.tree import DecisionTreeRegressor\n",
    "treereg = DecisionTreeRegressor(max_depth=10, random_state=1)\n",
    "from sklearn.naive_bayes import GaussianNB\n",
    "clf = GaussianNB()"
   ]
  },
  {
   "cell_type": "code",
   "execution_count": 2,
   "metadata": {
    "collapsed": true
   },
   "outputs": [],
   "source": [
    "def train():\n",
    "    #read file\n",
    "    from sklearn.model_selection import train_test_split\n",
    "    import pandas as pd \n",
    "    import numpy as np\n",
    "    data = pd.read_csv('final raw data.csv', na_filter=False)\n",
    "    pos_data = data[data['Larvae'] >= 1]\n",
    "    neg_data = data[data['Larvae'] == 0]\n",
    "    \n",
    "    # create final data set\n",
    "    pos_len = len(pos_data.index)\n",
    "    random_pos_data = pos_data.take(np.random.permutation(len(pos_data))[:pos_len])\n",
    "    samples = int(0.75 * pos_len)\n",
    "    train_pos_data = random_pos_data[:samples]\n",
    "    test_pos_data = random_pos_data[samples:]\n",
    "    final_pos_data = pd.concat([train_pos_data]*5)\n",
    "    times = len(final_pos_data)\n",
    "    final_neg_data = neg_data.take(np.random.permutation(len(neg_data))[:times])\n",
    "    frames = [final_pos_data, final_neg_data]\n",
    "    final_data = pd.concat(frames)\n",
    "    \n",
    "    # create X dataset \n",
    "    categories = ['Hamlet', 'Container_ID', 'Water_level', 'Container_position', 'Meso', 'Treatment']\n",
    "    X = final_data[categories]\n",
    "    \n",
    "    #Classify Gaussian NB\n",
    "    Y = final_data['Larvae']\n",
    "    clf.fit(X, Y)\n",
    "    GaussianNB(priors=None)\n",
    "\n",
    "    #Tree Regression\n",
    "    Y = final_data['Full count Larvae']\n",
    "    treereg.fit(X, Y)\n",
    "    \n",
    "    return "
   ]
  },
  {
   "cell_type": "code",
   "execution_count": 3,
   "metadata": {
    "collapsed": false
   },
   "outputs": [],
   "source": [
    "def predict(features):\n",
    "    #predict if Larvae exists\n",
    "    larvae = clf.predict(features)[0]\n",
    "    print larvae\n",
    "    if larvae == 1:\n",
    "        numlarvae = treereg.predict(features)\n",
    "        return True,numlarvae[0]\n",
    "    else:\n",
    "        return False,0\n",
    "\n"
   ]
  },
  {
   "cell_type": "code",
   "execution_count": 4,
   "metadata": {
    "collapsed": false
   },
   "outputs": [],
   "source": [
    "import sys\n",
    "from flask import Flask, render_template, request\n",
    "import pandas as pd\n",
    "app = Flask(__name__)\n",
    "\n",
    "#create a default route that supports both GET and POST methods\n",
    "results = []\n",
    "@app.route('/', methods=['GET', 'POST'])\n",
    "def index():\n",
    "    errors = []\n",
    "#     results = []\n",
    "    if request.method == \"POST\":\n",
    "        # get url that the user has entered\n",
    "        try:\n",
    "            #print(request.form)\n",
    "            features={}\n",
    "            features['Hamlet'] = request.form['hamlet']\n",
    "            features['Container_ID'] = request.form['containertype']\n",
    "            features['Water_level'] = request.form['waterlevel']\n",
    "            if 'meso' in request.form:\n",
    "                features['Meso']=1\n",
    "            else:\n",
    "                features['Meso']=0\n",
    "            if 'containerpos' in request.form:\n",
    "                features['Container_position']=1\n",
    "            else:\n",
    "                features['Container_position']=0\n",
    "\n",
    "            if 'chemicals' in request.form:\n",
    "                features['Treatment']=1\n",
    "            else:\n",
    "                features['Treatment']=0\n",
    "        except:\n",
    "            print sys.exc_info()[0]\n",
    "            errors.append(\n",
    "                \"Could not get data from HTML form. Please try again?\"\n",
    "            )\n",
    "            return render_template('index.html', errors=errors)\n",
    "        \n",
    "        x = validateInput(features)\n",
    "        if x!= 0:\n",
    "            errors.append(x)\n",
    "            \n",
    "        #convert dict to dataframe for analysis\n",
    "        y=[features]\n",
    "        df=pd.DataFrame(y)\n",
    "        #re-order to ensure dict conversion was good\n",
    "        df = df[['Hamlet', 'Container_ID', 'Water_level', 'Container_position','Meso','Treatment']]\n",
    "        \n",
    "        ans = predict(df)\n",
    "        \n",
    "        hamlet=getHamlet(features['Hamlet'])\n",
    "        container=getContainer(features['Container_ID'])\n",
    "        if ans[0]==True:\n",
    "            larvae=\"Yes\"\n",
    "        else:\n",
    "            larvae=\"No\"\n",
    "        results.append([hamlet,container,larvae,str(ans[1])])\n",
    "    return render_template('index.html', errors=errors, results=results)\n",
    "\n",
    "def validateInput(features):\n",
    "    try:\n",
    "        features['Hamlet']=int(features['Hamlet'])\n",
    "        features['Container_ID']=int(features['Container_ID'])\n",
    "        features['Water_level']=int(features['Water_level'])\n",
    "        features['Meso']=int(features['Meso'])\n",
    "        features['Container_position']=int(features['Container_position'])\n",
    "        features['Treatment']=int(features['Treatment'])\n",
    "    except:\n",
    "        return \"Invalid input, please try again?\"\n",
    "    \n",
    "    return 0\n",
    "\n",
    "def getHamlet(hamletnum):\n",
    "    hamlets = [\"Tran An\",\"Tan My\",\"My Hanh\",\"My Chanh\",\"My Doi\",\"Hoa Phu\",\"Rach Doi\",\"Ao Cho\",\"Luang Khanh\",\"Quang Hao\",\"Tan Hanh\"]\n",
    "    if hamletnum >= 0 and hamletnum <=10:\n",
    "        return hamlets[hamletnum]\n",
    "    return \"\"\n",
    "\n",
    "def getContainer(containernum):\n",
    "    containers = [\"Box Tank\",\"Cylindrical Tank\",\"Standard Jar\",\"Small Jar\",\"Large Jar\",\"Other\"]\n",
    "    if containernum >= 1 and containernum <=6:\n",
    "        return containers[containernum-1]\n",
    "    return \"\"\n"
   ]
  },
  {
   "cell_type": "code",
   "execution_count": null,
   "metadata": {
    "collapsed": false
   },
   "outputs": [
    {
     "name": "stderr",
     "output_type": "stream",
     "text": [
      " * Running on http://127.0.0.1:5000/ (Press CTRL+C to quit)\n"
     ]
    },
    {
     "name": "stdout",
     "output_type": "stream",
     "text": [
      "Training model...\n"
     ]
    },
    {
     "name": "stderr",
     "output_type": "stream",
     "text": [
      "127.0.0.1 - - [14/Jan/2017 04:37:12] \"GET / HTTP/1.1\" 200 -\n",
      "127.0.0.1 - - [14/Jan/2017 04:37:25] \"POST / HTTP/1.1\" 200 -\n"
     ]
    },
    {
     "name": "stdout",
     "output_type": "stream",
     "text": [
      "ImmutableMultiDict([('containertype', u'1'), ('containerpos', u'1'), ('hamlet', u'6'), ('waterlevel', u'10')])\n",
      "0\n"
     ]
    },
    {
     "name": "stderr",
     "output_type": "stream",
     "text": [
      "127.0.0.1 - - [14/Jan/2017 04:37:43] \"POST / HTTP/1.1\" 200 -\n"
     ]
    },
    {
     "name": "stdout",
     "output_type": "stream",
     "text": [
      "ImmutableMultiDict([('containertype', u'3'), ('containerpos', u'1'), ('hamlet', u'0'), ('waterlevel', u'3')])\n",
      "1\n"
     ]
    }
   ],
   "source": [
    "if __name__ == \"__main__\":\n",
    "    print \"Training model...\"\n",
    "    train()\n",
    "    print \"Completed Training...\"\n",
    "    app.run()"
   ]
  },
  {
   "cell_type": "code",
   "execution_count": null,
   "metadata": {
    "collapsed": true
   },
   "outputs": [],
   "source": []
  }
 ],
 "metadata": {
  "anaconda-cloud": {},
  "kernelspec": {
   "display_name": "Python [default]",
   "language": "python",
   "name": "python2"
  },
  "language_info": {
   "codemirror_mode": {
    "name": "ipython",
    "version": 2
   },
   "file_extension": ".py",
   "mimetype": "text/x-python",
   "name": "python",
   "nbconvert_exporter": "python",
   "pygments_lexer": "ipython2",
   "version": "2.7.12"
  }
 },
 "nbformat": 4,
 "nbformat_minor": 1
}
