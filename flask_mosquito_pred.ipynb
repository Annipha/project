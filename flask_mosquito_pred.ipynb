{
 "cells": [
  {
   "cell_type": "markdown",
   "metadata": {},
   "source": [
    "# Flask #"
   ]
  },
  {
   "cell_type": "markdown",
   "metadata": {},
   "source": [
    "## Background ##\n",
    "\n",
    "### Every web server must have a unique IP address###\n",
    "![title](img/ip.png)\n",
    "#### Special IP addresses ####\n",
    "**Loopback (self reference) **\n",
    "127.0.0.1\n",
    "**Private IP Addresses**\n",
    "10.0.0.0\n",
    "172.16.0.0\n",
    "192.168.0.0\n",
    "\n",
    "### Every web application must have a unique port number ###\n",
    "HTTP is the language of the web using GET and POST and typically runs on port 80.\n",
    "\n",
    "Try visiting www.google.com:80 on your browser, then change the port from 80 to something else and try again. What happened?\n",
    "\n",
    "#### How HTTP works ####\n",
    "![title](img/http.png)\n",
    "- Web browser requests a web page from the web server using GET\n",
    "- Web server responses with the web page with a POST"
   ]
  },
  {
   "cell_type": "markdown",
   "metadata": {},
   "source": [
    "# Let's Code! #\n",
    "\n",
    "1. Install and import flask\n",
    "2. Build a basic hello world web page\n",
    "3. Create an HTML form that can send data to the flask application and return answer in a new webpage"
   ]
  },
  {
   "cell_type": "markdown",
   "metadata": {},
   "source": [
    "## Part 1: Installing and importing flask ##"
   ]
  },
  {
   "cell_type": "code",
   "execution_count": 1,
   "metadata": {
    "collapsed": false
   },
   "outputs": [],
   "source": [
    "# use `conda install flask`\n",
    "# to install\n",
    "import sys\n",
    "from flask import Flask, render_template, request\n",
    "import pandas as pd\n",
    "app = Flask(__name__)"
   ]
  },
  {
   "cell_type": "markdown",
   "metadata": {},
   "source": [
    "## Part 2: Basic hello world html page ##"
   ]
  },
  {
   "cell_type": "code",
   "execution_count": 2,
   "metadata": {
    "collapsed": true
   },
   "outputs": [],
   "source": [
    "@app.route(\"/hello\") #basic hello world\n",
    "def hello():\n",
    "    return \"Hello World!\"\n",
    "\n",
    "@app.route(\"/html\") #a full html page\n",
    "def hellohtml():\n",
    "    return \"\"\"\n",
    "    <!DOCTYPE html>\n",
    "<html>\n",
    "<head>\n",
    "<title>Hello World!</title>\n",
    "</head>\n",
    "\n",
    "<body>\n",
    "Welcome to DAT2 Science!\n",
    "</body>\n",
    "\n",
    "</html>\n",
    "\"\"\""
   ]
  },
  {
   "cell_type": "markdown",
   "metadata": {},
   "source": [
    "## Part 3: HTML form to send and receive data ##\n",
    "Now we will reference a simple HTML form to send an output back to our python program which we can use for processing"
   ]
  },
  {
   "cell_type": "code",
   "execution_count": 3,
   "metadata": {
    "collapsed": false
   },
   "outputs": [],
   "source": [
    "#create a default route that supports both GET and POST methods\n",
    "results = []\n",
    "@app.route('/', methods=['GET', 'POST'])\n",
    "def index():\n",
    "    errors = []\n",
    "#     results = []\n",
    "    if request.method == \"POST\":\n",
    "        # get url that the user has entered\n",
    "        try:\n",
    "            print(request.form)\n",
    "            features={}\n",
    "            features['Hamlet'] = request.form['hamlet']\n",
    "            features['Container_ID'] = request.form['containertype']\n",
    "            features['Water_level'] = request.form['waterlevel']\n",
    "            if 'meso' in request.form:\n",
    "                features['Meso']=1\n",
    "            else:\n",
    "                features['Meso']=0\n",
    "            if 'containerpos' in request.form:\n",
    "                features['Container_position']=1\n",
    "            else:\n",
    "                features['Container_position']=0\n",
    "\n",
    "            if 'chemicals' in request.form:\n",
    "                features['Treatment']=1\n",
    "            else:\n",
    "                features['Treatment']=0\n",
    "        except:\n",
    "            print sys.exc_info()[0]\n",
    "            errors.append(\n",
    "                \"Could not get data from HTML form. Please try again?\"\n",
    "            )\n",
    "            return render_template('index.html', errors=errors)\n",
    "        \n",
    "        x = validateInput(features)\n",
    "        if x!= 0:\n",
    "            errors.append(x)\n",
    "            \n",
    "        #convert dict to dataframe for analysis\n",
    "        y=[features]\n",
    "        df=pd.DataFrame(y)\n",
    "        #re-order to ensure dict conversion was good\n",
    "        df = df[['Hamlet', 'Container_ID', 'Waterlevel', 'Container_position','Meso','Treatment']]\n",
    "        \n",
    "        ans = predict(df)\n",
    "        \n",
    "        hamlet=getHamlet(features['Hamlet'])\n",
    "        container=getContainer(features['Container_ID'])\n",
    "        if ans[0]==True:\n",
    "            larvae=\"Yes\"\n",
    "        else:\n",
    "            larvae=\"No\"\n",
    "        results.append([hamlet,container,larvae,str(ans[1])])\n",
    "    return render_template('index.html', errors=errors, results=results)\n",
    "\n",
    "def validateInput(features):\n",
    "    try:\n",
    "        features['Hamlet']=int(features['Hamlet'])\n",
    "        features['Container_ID']=int(features['Container_ID'])\n",
    "        features['Water_level']=int(features['Water_level'])\n",
    "        features['Meso']=int(features['Meso'])\n",
    "        features['Container_position']=int(features['Container_position'])\n",
    "        features['Treatment']=int(features['Treatment'])\n",
    "    except:\n",
    "        return \"Invalid input, please try again?\"\n",
    "    \n",
    "    return 0\n",
    "\n",
    "def getHamlet(hamletnum):\n",
    "    hamlets = [\"Tran An\",\"Tan My\",\"My Hanh\",\"My Chanh\",\"My Doi\",\"Hoa Phu\",\"Rach Doi\",\"Ao Cho\",\"Luang Khanh\",\"Quang Hao\",\"Tan Hanh\"]\n",
    "    if hamletnum >= 0 and hamletnum <=10:\n",
    "        return hamlets[hamletnum]\n",
    "    return \"\"\n",
    "\n",
    "def getContainer(containernum):\n",
    "    containers = [\"Box Tank\",\"Cylindrical Tank\",\"Standard Jar\",\"Small Jar\",\"Large Jar\",\"Other\"]\n",
    "    if containernum >= 1 and containernum <=6:\n",
    "        return containers[containernum-1]\n",
    "    return \"\"\n",
    "\n",
    "def predict(features):\n",
    "    return [True,25]"
   ]
  },
  {
   "cell_type": "markdown",
   "metadata": {},
   "source": [
    "## Run cell below to start web server ##"
   ]
  },
  {
   "cell_type": "code",
   "execution_count": null,
   "metadata": {
    "collapsed": false
   },
   "outputs": [
    {
     "name": "stderr",
     "output_type": "stream",
     "text": [
      " * Running on http://127.0.0.1:5000/ (Press CTRL+C to quit)\n",
      "127.0.0.1 - - [14/Jan/2017 03:53:44] \"GET / HTTP/1.1\" 200 -\n",
      "127.0.0.1 - - [14/Jan/2017 03:53:55] \"POST / HTTP/1.1\" 200 -\n"
     ]
    },
    {
     "name": "stdout",
     "output_type": "stream",
     "text": [
      "ImmutableMultiDict([('containertype', u'5'), ('containerpos', u'1'), ('hamlet', u'8'), ('meso', u'1'), ('waterlevel', u'5')])\n"
     ]
    }
   ],
   "source": [
    "if __name__ == \"__main__\":\n",
    "    app.run()"
   ]
  },
  {
   "cell_type": "code",
   "execution_count": null,
   "metadata": {
    "collapsed": true
   },
   "outputs": [],
   "source": []
  }
 ],
 "metadata": {
  "anaconda-cloud": {},
  "kernelspec": {
   "display_name": "Python [default]",
   "language": "python",
   "name": "python2"
  },
  "language_info": {
   "codemirror_mode": {
    "name": "ipython",
    "version": 2
   },
   "file_extension": ".py",
   "mimetype": "text/x-python",
   "name": "python",
   "nbconvert_exporter": "python",
   "pygments_lexer": "ipython2",
   "version": "2.7.12"
  }
 },
 "nbformat": 4,
 "nbformat_minor": 0
}
